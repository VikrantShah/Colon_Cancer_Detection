{
 "cells": [
  {
   "cell_type": "markdown",
   "metadata": {},
   "source": [
    "# Importing the Libraries"
   ]
  },
  {
   "cell_type": "code",
   "execution_count": 1,
   "metadata": {},
   "outputs": [],
   "source": [
    "from tensorflow import keras\n",
    "from tensorflow.keras.preprocessing.image import ImageDataGenerator\n",
    "from tensorflow.keras.models import Sequential\n",
    "from tensorflow.keras.applications.vgg16 import VGG16\n",
    "from tensorflow.keras.layers import Flatten\n",
    "from tensorflow.keras.layers import Dense\n",
    "from tensorflow.keras.callbacks import EarlyStopping\n",
    "from tensorflow.keras.callbacks import ModelCheckpoint\n",
    "import matplotlib.pyplot as plt"
   ]
  },
  {
   "cell_type": "markdown",
   "metadata": {},
   "source": [
    "# Getting and loading the Training, Testing and Validation set"
   ]
  },
  {
   "cell_type": "code",
   "execution_count": 2,
   "metadata": {},
   "outputs": [],
   "source": [
    "train_path = r\"C:\\AI-DocHelper_Models_Code\\Colon_Cancer_Detection\\dataset\\train\"\n",
    "test_path = r\"C:\\AI-DocHelper_Models_Code\\Colon_Cancer_Detection\\dataset\\test\"\n",
    "validation_path = r\"C:\\AI-DocHelper_Models_Code\\Colon_Cancer_Detection\\dataset\\val\""
   ]
  },
  {
   "cell_type": "code",
   "execution_count": 3,
   "metadata": {},
   "outputs": [],
   "source": [
    "batch_size = 16\n",
    "img_size = (100, 100)"
   ]
  },
  {
   "cell_type": "code",
   "execution_count": 4,
   "metadata": {},
   "outputs": [],
   "source": [
    "train_datagen = ImageDataGenerator(rescale = 1./255,\n",
    "                                  rotation_range = 40.,\n",
    "                                  width_shift_range = 0.2,\n",
    "                                  height_shift_range = 0.2,\n",
    "                                  shear_range = 0.2,\n",
    "                                  zoom_range = 0.2,\n",
    "                                  horizontal_flip = True)\n",
    "\n",
    "validation_datagen = ImageDataGenerator(rescale = 1./255)"
   ]
  },
  {
   "cell_type": "code",
   "execution_count": 5,
   "metadata": {},
   "outputs": [
    {
     "name": "stdout",
     "output_type": "stream",
     "text": [
      "Found 3000 images belonging to 8 classes.\n",
      "Found 1000 images belonging to 8 classes.\n"
     ]
    }
   ],
   "source": [
    "train_generator = train_datagen.flow_from_directory(train_path,\n",
    "                                                   target_size = img_size,\n",
    "                                                   batch_size = batch_size,\n",
    "                                                   class_mode = \"categorical\")\n",
    "\n",
    "validation_generator = validation_datagen.flow_from_directory(validation_path,\n",
    "                                                             target_size = img_size,\n",
    "                                                             batch_size = batch_size,\n",
    "                                                             class_mode = \"categorical\")"
   ]
  },
  {
   "cell_type": "markdown",
   "metadata": {},
   "source": [
    "# Getting the class names"
   ]
  },
  {
   "cell_type": "code",
   "execution_count": 6,
   "metadata": {},
   "outputs": [
    {
     "name": "stdout",
     "output_type": "stream",
     "text": [
      "{0: 'dyed-lifted-polyps', 1: 'dyed-resection-margins', 2: 'esophagitis', 3: 'normal-cecum', 4: 'normal-pylorus', 5: 'normal-z-line', 6: 'polyps', 7: 'ulcerative-colitis'}\n"
     ]
    }
   ],
   "source": [
    "temp_classes = dict(train_generator.class_indices)\n",
    "\n",
    "classes = dict()\n",
    "for (k, v) in temp_classes.items() :\n",
    "    classes[v] = k\n",
    "print(classes)"
   ]
  },
  {
   "cell_type": "markdown",
   "metadata": {},
   "source": [
    "# Building the CNN"
   ]
  },
  {
   "cell_type": "markdown",
   "metadata": {},
   "source": [
    "## Initalising the CNN"
   ]
  },
  {
   "cell_type": "code",
   "execution_count": 7,
   "metadata": {},
   "outputs": [],
   "source": [
    "model = Sequential()"
   ]
  },
  {
   "cell_type": "markdown",
   "metadata": {},
   "source": [
    "## Adding VGG16 model as Convolutional Base"
   ]
  },
  {
   "cell_type": "code",
   "execution_count": 8,
   "metadata": {},
   "outputs": [],
   "source": [
    "conv_base = VGG16(weights = \"imagenet\",\n",
    "                 include_top = False,\n",
    "                 input_shape = (img_size[0], img_size[1], 3))"
   ]
  },
  {
   "cell_type": "code",
   "execution_count": 9,
   "metadata": {},
   "outputs": [
    {
     "name": "stdout",
     "output_type": "stream",
     "text": [
      "Model: \"vgg16\"\n",
      "_________________________________________________________________\n",
      "Layer (type)                 Output Shape              Param #   \n",
      "=================================================================\n",
      "input_1 (InputLayer)         [(None, 100, 100, 3)]     0         \n",
      "_________________________________________________________________\n",
      "block1_conv1 (Conv2D)        (None, 100, 100, 64)      1792      \n",
      "_________________________________________________________________\n",
      "block1_conv2 (Conv2D)        (None, 100, 100, 64)      36928     \n",
      "_________________________________________________________________\n",
      "block1_pool (MaxPooling2D)   (None, 50, 50, 64)        0         \n",
      "_________________________________________________________________\n",
      "block2_conv1 (Conv2D)        (None, 50, 50, 128)       73856     \n",
      "_________________________________________________________________\n",
      "block2_conv2 (Conv2D)        (None, 50, 50, 128)       147584    \n",
      "_________________________________________________________________\n",
      "block2_pool (MaxPooling2D)   (None, 25, 25, 128)       0         \n",
      "_________________________________________________________________\n",
      "block3_conv1 (Conv2D)        (None, 25, 25, 256)       295168    \n",
      "_________________________________________________________________\n",
      "block3_conv2 (Conv2D)        (None, 25, 25, 256)       590080    \n",
      "_________________________________________________________________\n",
      "block3_conv3 (Conv2D)        (None, 25, 25, 256)       590080    \n",
      "_________________________________________________________________\n",
      "block3_pool (MaxPooling2D)   (None, 12, 12, 256)       0         \n",
      "_________________________________________________________________\n",
      "block4_conv1 (Conv2D)        (None, 12, 12, 512)       1180160   \n",
      "_________________________________________________________________\n",
      "block4_conv2 (Conv2D)        (None, 12, 12, 512)       2359808   \n",
      "_________________________________________________________________\n",
      "block4_conv3 (Conv2D)        (None, 12, 12, 512)       2359808   \n",
      "_________________________________________________________________\n",
      "block4_pool (MaxPooling2D)   (None, 6, 6, 512)         0         \n",
      "_________________________________________________________________\n",
      "block5_conv1 (Conv2D)        (None, 6, 6, 512)         2359808   \n",
      "_________________________________________________________________\n",
      "block5_conv2 (Conv2D)        (None, 6, 6, 512)         2359808   \n",
      "_________________________________________________________________\n",
      "block5_conv3 (Conv2D)        (None, 6, 6, 512)         2359808   \n",
      "_________________________________________________________________\n",
      "block5_pool (MaxPooling2D)   (None, 3, 3, 512)         0         \n",
      "=================================================================\n",
      "Total params: 14,714,688\n",
      "Trainable params: 14,714,688\n",
      "Non-trainable params: 0\n",
      "_________________________________________________________________\n"
     ]
    }
   ],
   "source": [
    "conv_base.summary()"
   ]
  },
  {
   "cell_type": "code",
   "execution_count": 10,
   "metadata": {},
   "outputs": [],
   "source": [
    "model.add(conv_base)"
   ]
  },
  {
   "cell_type": "markdown",
   "metadata": {},
   "source": [
    "# Flattening all the layers"
   ]
  },
  {
   "cell_type": "code",
   "execution_count": 11,
   "metadata": {},
   "outputs": [],
   "source": [
    "model.add(Flatten())"
   ]
  },
  {
   "cell_type": "markdown",
   "metadata": {},
   "source": [
    "## Adding the First Fully Connected Layer"
   ]
  },
  {
   "cell_type": "code",
   "execution_count": 12,
   "metadata": {},
   "outputs": [],
   "source": [
    "model.add(Dense(units = 128, activation = \"relu\"))"
   ]
  },
  {
   "cell_type": "markdown",
   "metadata": {},
   "source": [
    "## Adding the Second Fully Connected Layer"
   ]
  },
  {
   "cell_type": "code",
   "execution_count": 13,
   "metadata": {},
   "outputs": [],
   "source": [
    "model.add(Dense(units = 64, activation = \"relu\"))"
   ]
  },
  {
   "cell_type": "markdown",
   "metadata": {},
   "source": [
    "## Adding the Final Fully Connected Layer"
   ]
  },
  {
   "cell_type": "code",
   "execution_count": 14,
   "metadata": {},
   "outputs": [],
   "source": [
    "model.add(Dense(units = 8, activation = \"sigmoid\"))"
   ]
  },
  {
   "cell_type": "markdown",
   "metadata": {},
   "source": [
    "## Displaying the model summary"
   ]
  },
  {
   "cell_type": "code",
   "execution_count": 15,
   "metadata": {},
   "outputs": [
    {
     "name": "stdout",
     "output_type": "stream",
     "text": [
      "Model: \"sequential\"\n",
      "_________________________________________________________________\n",
      "Layer (type)                 Output Shape              Param #   \n",
      "=================================================================\n",
      "vgg16 (Functional)           (None, 3, 3, 512)         14714688  \n",
      "_________________________________________________________________\n",
      "flatten (Flatten)            (None, 4608)              0         \n",
      "_________________________________________________________________\n",
      "dense (Dense)                (None, 128)               589952    \n",
      "_________________________________________________________________\n",
      "dense_1 (Dense)              (None, 64)                8256      \n",
      "_________________________________________________________________\n",
      "dense_2 (Dense)              (None, 8)                 520       \n",
      "=================================================================\n",
      "Total params: 15,313,416\n",
      "Trainable params: 15,313,416\n",
      "Non-trainable params: 0\n",
      "_________________________________________________________________\n"
     ]
    }
   ],
   "source": [
    "model.summary()"
   ]
  },
  {
   "cell_type": "markdown",
   "metadata": {},
   "source": [
    "## Compiling the CNN model"
   ]
  },
  {
   "cell_type": "code",
   "execution_count": 16,
   "metadata": {},
   "outputs": [],
   "source": [
    "model.compile(optimizer = \"adam\",\n",
    "             loss = \"categorical_crossentropy\", \n",
    "             metrics = [\"accuracy\"])"
   ]
  },
  {
   "cell_type": "markdown",
   "metadata": {},
   "source": [
    "# Training the CNN"
   ]
  },
  {
   "cell_type": "markdown",
   "metadata": {},
   "source": [
    "## Saving the Best model only"
   ]
  },
  {
   "cell_type": "code",
   "execution_count": 17,
   "metadata": {},
   "outputs": [],
   "source": [
    "checkpoint = ModelCheckpoint(filepath = \"colon_cancer.h5\",\n",
    "                            save_best_only = True)"
   ]
  },
  {
   "cell_type": "markdown",
   "metadata": {},
   "source": [
    "## Stopping the Training, if there is no improvement"
   ]
  },
  {
   "cell_type": "code",
   "execution_count": 18,
   "metadata": {},
   "outputs": [],
   "source": [
    "earlyStopping = EarlyStopping(monitor=\"val_loss\", \n",
    "                              patience = 12,\n",
    "                             restore_best_weights = True,\n",
    "                             verbose = 1)"
   ]
  },
  {
   "cell_type": "markdown",
   "metadata": {},
   "source": [
    "## Calculating the steps_per_epoch and validation_steps"
   ]
  },
  {
   "cell_type": "code",
   "execution_count": 19,
   "metadata": {},
   "outputs": [
    {
     "name": "stdout",
     "output_type": "stream",
     "text": [
      "188\n",
      "63\n"
     ]
    }
   ],
   "source": [
    "import math\n",
    "\n",
    "batch_size = batch_size\n",
    "training_size = 3000\n",
    "validation_size = 1000\n",
    "\n",
    "compute_steps_per_epoch = lambda x : int(math.ceil(1. * x / batch_size))\n",
    "\n",
    "steps_per_epoch = compute_steps_per_epoch(training_size)\n",
    "validation_steps = compute_steps_per_epoch(validation_size)\n",
    "\n",
    "print(steps_per_epoch)\n",
    "print(validation_steps)"
   ]
  },
  {
   "cell_type": "code",
   "execution_count": 20,
   "metadata": {},
   "outputs": [
    {
     "name": "stderr",
     "output_type": "stream",
     "text": [
      "C:\\Users\\RAJ SHAH\\anaconda3\\lib\\site-packages\\tensorflow\\python\\keras\\engine\\training.py:1844: UserWarning: `Model.fit_generator` is deprecated and will be removed in a future version. Please use `Model.fit`, which supports generators.\n",
      "  warnings.warn('`Model.fit_generator` is deprecated and '\n"
     ]
    },
    {
     "name": "stdout",
     "output_type": "stream",
     "text": [
      "Epoch 1/30\n",
      "188/188 [==============================] - 429s 2s/step - loss: 1.9049 - accuracy: 0.2337 - val_loss: 1.2109 - val_accuracy: 0.4860\n",
      "Epoch 2/30\n",
      "188/188 [==============================] - 400s 2s/step - loss: 1.1697 - accuracy: 0.4456 - val_loss: 0.9657 - val_accuracy: 0.5320\n",
      "Epoch 3/30\n",
      "188/188 [==============================] - 402s 2s/step - loss: 1.0018 - accuracy: 0.5099 - val_loss: 0.9723 - val_accuracy: 0.5610\n",
      "Epoch 4/30\n",
      "188/188 [==============================] - 400s 2s/step - loss: 1.0257 - accuracy: 0.5050 - val_loss: 0.8591 - val_accuracy: 0.5660\n",
      "Epoch 5/30\n",
      "188/188 [==============================] - 401s 2s/step - loss: 1.0144 - accuracy: 0.5149 - val_loss: 0.8971 - val_accuracy: 0.5500\n",
      "Epoch 6/30\n",
      "188/188 [==============================] - 395s 2s/step - loss: 0.9305 - accuracy: 0.5456 - val_loss: 0.8079 - val_accuracy: 0.5960\n",
      "Epoch 7/30\n",
      "188/188 [==============================] - 410s 2s/step - loss: 0.8751 - accuracy: 0.5695 - val_loss: 1.0423 - val_accuracy: 0.4950\n",
      "Epoch 8/30\n",
      "188/188 [==============================] - 411s 2s/step - loss: 0.9930 - accuracy: 0.5165 - val_loss: 0.9026 - val_accuracy: 0.5100\n",
      "Epoch 9/30\n",
      "188/188 [==============================] - 395s 2s/step - loss: 0.9164 - accuracy: 0.5477 - val_loss: 0.9121 - val_accuracy: 0.5660\n",
      "Epoch 10/30\n",
      "188/188 [==============================] - 406s 2s/step - loss: 0.8798 - accuracy: 0.5513 - val_loss: 0.8629 - val_accuracy: 0.5350\n",
      "Epoch 11/30\n",
      "188/188 [==============================] - 403s 2s/step - loss: 0.8821 - accuracy: 0.5642 - val_loss: 0.7847 - val_accuracy: 0.6110\n",
      "Epoch 12/30\n",
      "188/188 [==============================] - 407s 2s/step - loss: 0.8668 - accuracy: 0.5887 - val_loss: 0.8210 - val_accuracy: 0.5900\n",
      "Epoch 13/30\n",
      "188/188 [==============================] - 401s 2s/step - loss: 0.8559 - accuracy: 0.5806 - val_loss: 0.7760 - val_accuracy: 0.5940\n",
      "Epoch 14/30\n",
      "188/188 [==============================] - 402s 2s/step - loss: 0.8293 - accuracy: 0.5702 - val_loss: 0.8010 - val_accuracy: 0.5640\n",
      "Epoch 15/30\n",
      "188/188 [==============================] - 395s 2s/step - loss: 0.8319 - accuracy: 0.5904 - val_loss: 0.7823 - val_accuracy: 0.6380\n",
      "Epoch 16/30\n",
      "188/188 [==============================] - 405s 2s/step - loss: 0.8131 - accuracy: 0.5919 - val_loss: 0.7757 - val_accuracy: 0.6250\n",
      "Epoch 17/30\n",
      "188/188 [==============================] - 405s 2s/step - loss: 0.7757 - accuracy: 0.6068 - val_loss: 0.7271 - val_accuracy: 0.6460\n",
      "Epoch 18/30\n",
      "188/188 [==============================] - 412s 2s/step - loss: 0.7773 - accuracy: 0.6189 - val_loss: 0.8000 - val_accuracy: 0.6310\n",
      "Epoch 19/30\n",
      "188/188 [==============================] - 405s 2s/step - loss: 0.8075 - accuracy: 0.6042 - val_loss: 0.7750 - val_accuracy: 0.6360\n",
      "Epoch 20/30\n",
      "188/188 [==============================] - 400s 2s/step - loss: 0.7798 - accuracy: 0.6173 - val_loss: 0.7389 - val_accuracy: 0.6360\n",
      "Epoch 21/30\n",
      "188/188 [==============================] - 411s 2s/step - loss: 0.7934 - accuracy: 0.6156 - val_loss: 0.8402 - val_accuracy: 0.5970\n",
      "Epoch 22/30\n",
      "188/188 [==============================] - 419s 2s/step - loss: 0.7693 - accuracy: 0.6259 - val_loss: 0.7850 - val_accuracy: 0.6240\n",
      "Epoch 23/30\n",
      "188/188 [==============================] - 400s 2s/step - loss: 0.7944 - accuracy: 0.6254 - val_loss: 0.7823 - val_accuracy: 0.5880\n",
      "Epoch 24/30\n",
      "188/188 [==============================] - 409s 2s/step - loss: 0.8387 - accuracy: 0.6183 - val_loss: 0.8162 - val_accuracy: 0.5830\n",
      "Epoch 25/30\n",
      "188/188 [==============================] - 411s 2s/step - loss: 0.8327 - accuracy: 0.6058 - val_loss: 0.7486 - val_accuracy: 0.6470\n",
      "Epoch 26/30\n",
      "188/188 [==============================] - 411s 2s/step - loss: 0.8029 - accuracy: 0.6199 - val_loss: 0.8502 - val_accuracy: 0.5330\n",
      "Epoch 27/30\n",
      "188/188 [==============================] - 417s 2s/step - loss: 0.7899 - accuracy: 0.6194 - val_loss: 0.7107 - val_accuracy: 0.6420\n",
      "Epoch 28/30\n",
      "188/188 [==============================] - 411s 2s/step - loss: 0.7503 - accuracy: 0.6487 - val_loss: 0.7066 - val_accuracy: 0.6500\n",
      "Epoch 29/30\n",
      "188/188 [==============================] - 425s 2s/step - loss: 0.7472 - accuracy: 0.6311 - val_loss: 0.8555 - val_accuracy: 0.6080\n",
      "Epoch 30/30\n",
      "188/188 [==============================] - 422s 2s/step - loss: 0.8545 - accuracy: 0.6091 - val_loss: 0.7243 - val_accuracy: 0.6520\n"
     ]
    }
   ],
   "source": [
    "history = model.fit_generator(train_generator,\n",
    "                             steps_per_epoch = steps_per_epoch,\n",
    "                             epochs = 30,\n",
    "                             validation_data = validation_generator,\n",
    "                             validation_steps = validation_steps,\n",
    "                             callbacks = [checkpoint, earlyStopping])"
   ]
  },
  {
   "cell_type": "markdown",
   "metadata": {},
   "source": [
    "# Saving the model"
   ]
  },
  {
   "cell_type": "code",
   "execution_count": 21,
   "metadata": {},
   "outputs": [],
   "source": [
    "model_json = model.to_json()\n",
    "\n",
    "with open(\"colon_cancer.json\", \"w\") as json_file :\n",
    "    json_file.write(model_json)"
   ]
  },
  {
   "cell_type": "markdown",
   "metadata": {},
   "source": [
    "# Visualizing the Training Performance"
   ]
  },
  {
   "cell_type": "code",
   "execution_count": 22,
   "metadata": {},
   "outputs": [
    {
     "data": {
      "image/png": "[encoded data removed]",
      "text/plain": [
       "<Figure size 864x864 with 2 Axes>"
      ]
     },
     "metadata": {
      "needs_background": "light"
     },
     "output_type": "display_data"
    }
   ],
   "source": [
    "plt.figure(figsize = (12, 12))\n",
    "\n",
    "plt.subplot(2, 2, 1)\n",
    "plt.plot(history.history[\"accuracy\"], label = \"accuracy\")\n",
    "plt.plot(history.history[\"val_accuracy\"], label = \"val_accuracy\")\n",
    "plt.legend()\n",
    "plt.grid()\n",
    "plt.title(\"Accuracy Evaluation\")\n",
    "\n",
    "plt.subplot(2, 2, 2)\n",
    "plt.plot(history.history[\"loss\"], label = \"loss\")\n",
    "plt.plot(history.history[\"val_loss\"], label = \"val_loss\")\n",
    "plt.grid()\n",
    "plt.legend()\n",
    "plt.title(\"Loss Evaluation\")\n",
    "\n",
    "plt.savefig(\"colon_cancer_model_history.jpg\")"
   ]
  },
  {
   "cell_type": "markdown",
   "metadata": {},
   "source": [
    "# Getting the accuracy for test set"
   ]
  },
  {
   "cell_type": "code",
   "execution_count": 23,
   "metadata": {},
   "outputs": [
    {
     "name": "stdout",
     "output_type": "stream",
     "text": [
      "63/63 [==============================] - 40s 637ms/step - loss: 0.7243 - accuracy: 0.6520\n",
      "[0.7243490219116211, 0.6520000100135803]\n"
     ]
    }
   ],
   "source": [
    "test_accuracy = model.evaluate(validation_generator)\n",
    "print(test_accuracy)"
   ]
  },
  {
   "cell_type": "code",
   "execution_count": 24,
   "metadata": {},
   "outputs": [
    {
     "name": "stdout",
     "output_type": "stream",
     "text": [
      "63/63 [==============================] - 39s 618ms/step\n"
     ]
    },
    {
     "data": {
      "text/plain": [
       "array([[1.33031011e-02, 4.06861305e-04, 7.39134014e-01, ...,\n",
       "        9.15927887e-01, 8.03909838e-01, 1.14518374e-01],\n",
       "       [1.62908137e-02, 2.98100710e-03, 9.84789371e-01, ...,\n",
       "        9.93886471e-01, 1.00606501e-01, 4.88397479e-03],\n",
       "       [1.95067972e-01, 1.57870650e-02, 3.49760056e-03, ...,\n",
       "        2.17214227e-03, 9.73992467e-01, 9.43435073e-01],\n",
       "       ...,\n",
       "       [9.96775985e-01, 9.99611974e-01, 1.69253326e-05, ...,\n",
       "        9.83569066e-07, 8.36245817e-06, 2.51147449e-02],\n",
       "       [9.98579741e-01, 9.99858439e-01, 1.05108420e-05, ...,\n",
       "        4.59144587e-07, 3.29492241e-06, 2.01451182e-02],\n",
       "       [8.24585557e-03, 7.10278749e-04, 1.70001388e-03, ...,\n",
       "        4.06756997e-03, 9.60582376e-01, 9.91272211e-01]], dtype=float32)"
      ]
     },
     "execution_count": 24,
     "metadata": {},
     "output_type": "execute_result"
    }
   ],
   "source": [
    "preds = model.predict(validation_generator, verbose=1)\n",
    "preds"
   ]
  },
  {
   "cell_type": "code",
   "execution_count": 25,
   "metadata": {},
   "outputs": [
    {
     "name": "stdout",
     "output_type": "stream",
     "text": [
      "[[0. 0. 1. ... 1. 1. 0.]\n",
      " [0. 0. 1. ... 1. 0. 0.]\n",
      " [0. 0. 0. ... 0. 1. 1.]\n",
      " ...\n",
      " [1. 1. 0. ... 0. 0. 0.]\n",
      " [1. 1. 0. ... 0. 0. 0.]\n",
      " [0. 0. 0. ... 0. 1. 1.]]\n"
     ]
    }
   ],
   "source": [
    "predictions = preds.copy()\n",
    "predictions[predictions <= 0.5] = 0\n",
    "predictions[predictions > 0.5] = 1\n",
    "\n",
    "print(predictions)"
   ]
  },
  {
   "cell_type": "code",
   "execution_count": null,
   "metadata": {},
   "outputs": [],
   "source": []
  }
 ],
 "metadata": {
  "kernelspec": {
   "display_name": "Python 3",
   "language": "python",
   "name": "python3"
  },
  "language_info": {
   "codemirror_mode": {
    "name": "ipython",
    "version": 3
   },
   "file_extension": ".py",
   "mimetype": "text/x-python",
   "name": "python",
   "nbconvert_exporter": "python",
   "pygments_lexer": "ipython3",
   "version": "3.8.5"
  }
 },
 "nbformat": 4,
 "nbformat_minor": 4
}
